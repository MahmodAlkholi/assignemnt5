{
 "cells": [
  {
   "cell_type": "markdown",
   "id": "a07501f2",
   "metadata": {},
   "source": [
    "# Assignment 5"
   ]
  },
  {
   "cell_type": "markdown",
   "id": "709954c3",
   "metadata": {},
   "source": [
    "**Write a NumPy program to test whether none of the elements of a given array is zero**"
   ]
  },
  {
   "cell_type": "code",
   "execution_count": 1,
   "id": "0170e156",
   "metadata": {},
   "outputs": [],
   "source": [
    "import numpy as np"
   ]
  },
  {
   "cell_type": "code",
   "execution_count": 58,
   "id": "83e5fb9a",
   "metadata": {},
   "outputs": [],
   "source": [
    "def chick_all_zeros(arr):\n",
    "    import numpy as np\n",
    "    if type(arr) == list:\n",
    "        arr = np.array(arr)\n",
    "        return \"zeros\" if np.all(arr==0) else \"none zeros\"\n",
    "    \n",
    "    elif type(arr) == np.ndarray:\n",
    "        return \"zeros\" if np.all(arr==0) else \"none zeros\"\n",
    "    \n",
    "    else:\n",
    "        \"invalide type of data\"\n",
    "     "
   ]
  },
  {
   "cell_type": "code",
   "execution_count": 59,
   "id": "e4aed06e",
   "metadata": {},
   "outputs": [
    {
     "data": {
      "text/plain": [
       "'none zeros'"
      ]
     },
     "execution_count": 59,
     "metadata": {},
     "output_type": "execute_result"
    }
   ],
   "source": [
    "l = [1 , 2 , 3 , 0  , 5]\n",
    "chick_all_zeros(l)"
   ]
  },
  {
   "cell_type": "code",
   "execution_count": 60,
   "id": "5a5e3556",
   "metadata": {},
   "outputs": [
    {
     "data": {
      "text/plain": [
       "'zeros'"
      ]
     },
     "execution_count": 60,
     "metadata": {},
     "output_type": "execute_result"
    }
   ],
   "source": [
    "a = np.array([0,0,0,0])\n",
    "\n",
    "chick_all_zeros(a)"
   ]
  },
  {
   "cell_type": "markdown",
   "id": "7a1efef3",
   "metadata": {},
   "source": [
    "**Write a NumPy program to test whether any of the elements of a given array is non-zero**"
   ]
  },
  {
   "cell_type": "code",
   "execution_count": 61,
   "id": "921fe57f",
   "metadata": {},
   "outputs": [],
   "source": [
    "def chick_any_zeros(arr):\n",
    "    import numpy as np\n",
    "    if type(arr) == list:\n",
    "        arr = np.array(arr)\n",
    "        return \"zeros\" if np.any(arr==0) else \"none zeros\"\n",
    "    \n",
    "    elif type(arr) == np.ndarray:\n",
    "        return \"zeros\" if np.any(arr==0) else \"none zeros\"\n",
    "    \n",
    "    else:\n",
    "        \"invalide type of data\"\n",
    "     "
   ]
  },
  {
   "cell_type": "code",
   "execution_count": 62,
   "id": "109e0d02",
   "metadata": {},
   "outputs": [
    {
     "data": {
      "text/plain": [
       "'zeros'"
      ]
     },
     "execution_count": 62,
     "metadata": {},
     "output_type": "execute_result"
    }
   ],
   "source": [
    "l = [1 , 2 , 3 , 0  , 5]\n",
    "chick_any_zeros(l)"
   ]
  },
  {
   "cell_type": "markdown",
   "id": "6aa33952",
   "metadata": {},
   "source": [
    "**Write a NumPy program to create an element-wise comparison (equal, equal within a tolerance) of two \n",
    "given**"
   ]
  },
  {
   "cell_type": "code",
   "execution_count": 1,
   "id": "220d3949",
   "metadata": {},
   "outputs": [],
   "source": [
    "import numpy as np"
   ]
  },
  {
   "cell_type": "code",
   "execution_count": 7,
   "id": "d3dca7d8",
   "metadata": {},
   "outputs": [],
   "source": [
    "\n",
    "class Compar:\n",
    "    \n",
    "    def __init__(self , arr1 , arr2 , tol):\n",
    "        self.arr1 = arr1\n",
    "        self.arr2 = arr2\n",
    "        self.tol = tol\n",
    "       \n",
    "    def is_equal(self):\n",
    "        if np.allclose(self.arr1 , self.arr2 , self.tol ) == True:\n",
    "            return \"is equal\"\n",
    "        else:\n",
    "            return \"not equal\"\n",
    "    \n",
    "    def is_equal_tol(self):\n",
    "        if np.allclose(self.arr1 , self.arr2 , self.tol) == True:\n",
    "            return \"is equal\"\n",
    "        else:\n",
    "            return \"not equal\"\n",
    "    \n",
    "    "
   ]
  },
  {
   "cell_type": "code",
   "execution_count": 8,
   "id": "57c55630",
   "metadata": {},
   "outputs": [
    {
     "data": {
      "text/plain": [
       "'is equal'"
      ]
     },
     "execution_count": 8,
     "metadata": {},
     "output_type": "execute_result"
    }
   ],
   "source": [
    "m = np.array([1,2,3,4,5,6])\n",
    "n = np.array([1,2,3,4,5,6])\n",
    "c = Compar(m , n , 1)\n",
    "c.is_equal_tol()"
   ]
  },
  {
   "cell_type": "code",
   "execution_count": 9,
   "id": "33b009d9",
   "metadata": {},
   "outputs": [
    {
     "data": {
      "text/plain": [
       "'not equal'"
      ]
     },
     "execution_count": 9,
     "metadata": {},
     "output_type": "execute_result"
    }
   ],
   "source": [
    "m = np.array([1,2,3,4,90,6])\n",
    "n = np.array([1,2,3,4,5,6])\n",
    "c1 = Compar(m , n , 0)\n",
    "c1.is_equal()"
   ]
  },
  {
   "cell_type": "markdown",
   "id": "e933e75a",
   "metadata": {},
   "source": [
    "**Write a NumPy program to create an array of 10 zeros,10 ones, 10 fives**"
   ]
  },
  {
   "cell_type": "code",
   "execution_count": 17,
   "id": "66a529fe",
   "metadata": {},
   "outputs": [],
   "source": [
    "def creat_z_o_f():\n",
    "    return np.zeros(10) , np.ones(10) , np.ones(10)*5"
   ]
  },
  {
   "cell_type": "code",
   "execution_count": 19,
   "id": "873bcdf0",
   "metadata": {},
   "outputs": [
    {
     "data": {
      "text/plain": [
       "(array([0., 0., 0., 0., 0., 0., 0., 0., 0., 0.]),\n",
       " array([1., 1., 1., 1., 1., 1., 1., 1., 1., 1.]),\n",
       " array([5., 5., 5., 5., 5., 5., 5., 5., 5., 5.]))"
      ]
     },
     "execution_count": 19,
     "metadata": {},
     "output_type": "execute_result"
    }
   ],
   "source": [
    "creat_z_o_f()"
   ]
  },
  {
   "cell_type": "markdown",
   "id": "8aefc66a",
   "metadata": {},
   "source": [
    "**Write a NumPy program to create an array of the integers from 30 to70**"
   ]
  },
  {
   "cell_type": "code",
   "execution_count": 23,
   "id": "5a823d40",
   "metadata": {},
   "outputs": [
    {
     "data": {
      "text/plain": [
       "array([30, 31, 32, 33, 34, 35, 36, 37, 38, 39, 40, 41, 42, 43, 44, 45, 46,\n",
       "       47, 48, 49, 50, 51, 52, 53, 54, 55, 56, 57, 58, 59, 60, 61, 62, 63,\n",
       "       64, 65, 66, 67, 68, 69, 70])"
      ]
     },
     "execution_count": 23,
     "metadata": {},
     "output_type": "execute_result"
    }
   ],
   "source": [
    "def get_array(start , end):\n",
    "    return np.arange(start , end + 1)\n",
    "\n",
    "get_array(30 , 70)"
   ]
  },
  {
   "cell_type": "markdown",
   "id": "a655770c",
   "metadata": {},
   "source": [
    "**Write a NumPy program to create a 3x3 identity matrix**"
   ]
  },
  {
   "cell_type": "code",
   "execution_count": 26,
   "id": "7b3ef857",
   "metadata": {},
   "outputs": [
    {
     "data": {
      "text/plain": [
       "array([[1., 0., 0.],\n",
       "       [0., 1., 0.],\n",
       "       [0., 0., 1.]])"
      ]
     },
     "execution_count": 26,
     "metadata": {},
     "output_type": "execute_result"
    }
   ],
   "source": [
    "def creat_mat(shape):\n",
    "    return np.identity(shape)\n",
    "\n",
    "creat_mat(3)"
   ]
  },
  {
   "cell_type": "markdown",
   "id": "0c1e0004",
   "metadata": {},
   "source": [
    "**Write a NumPy program to generate a random number between 0 and 1**"
   ]
  },
  {
   "cell_type": "code",
   "execution_count": 36,
   "id": "9158e1d8",
   "metadata": {},
   "outputs": [
    {
     "data": {
      "text/plain": [
       "array([0.8966073])"
      ]
     },
     "execution_count": 36,
     "metadata": {},
     "output_type": "execute_result"
    }
   ],
   "source": [
    "def random_num():\n",
    "    return np.random.rand( 1)\n",
    "\n",
    "random_num()"
   ]
  },
  {
   "cell_type": "markdown",
   "id": "59c2421a",
   "metadata": {},
   "source": [
    "**Write a NumPy program to generate an array of 15 random numbers from a standard normal \n",
    "distribution**"
   ]
  },
  {
   "cell_type": "code",
   "execution_count": 38,
   "id": "21fbd043",
   "metadata": {},
   "outputs": [
    {
     "data": {
      "text/plain": [
       "array([[-0.01576233,  0.86751068,  1.32501786, -0.99990586,  0.86958617,\n",
       "        -0.85467547, -1.84221678,  0.2970114 ,  0.32485045, -1.1200284 ,\n",
       "        -0.41418842,  1.28174429, -0.76911003,  0.31541271,  1.39423954]])"
      ]
     },
     "execution_count": 38,
     "metadata": {},
     "output_type": "execute_result"
    }
   ],
   "source": [
    "def genreat_nums(start , end):\n",
    "    return np.random.randn(start , end)\n",
    "\n",
    "genreat_nums(1,15)"
   ]
  },
  {
   "cell_type": "markdown",
   "id": "459f1c00",
   "metadata": {},
   "source": [
    "**Write a NumPy program to create a vector with values ranging from 15 to 55 and print all values \n",
    "except the first and last.**"
   ]
  },
  {
   "cell_type": "code",
   "execution_count": 41,
   "id": "be08bc03",
   "metadata": {},
   "outputs": [
    {
     "data": {
      "text/plain": [
       "array([16, 17, 18, 19, 20, 21, 22, 23, 24, 25, 26, 27, 28, 29, 30, 31, 32,\n",
       "       33, 34, 35, 36, 37, 38, 39, 40, 41, 42, 43, 44, 45, 46, 47, 48, 49,\n",
       "       50, 51, 52, 53, 54])"
      ]
     },
     "execution_count": 41,
     "metadata": {},
     "output_type": "execute_result"
    }
   ],
   "source": [
    "def creat_vec(start , end):\n",
    "    res = np.arange(start+1 , end)\n",
    "    return res\n",
    "\n",
    "creat_vec(15 , 55)"
   ]
  },
  {
   "cell_type": "markdown",
   "id": "a94d3127",
   "metadata": {},
   "source": [
    "**Write a NumPy program to create a vector of length 5 filled with arbitrary integers from 0 to 10**"
   ]
  },
  {
   "cell_type": "code",
   "execution_count": 44,
   "id": "5963895d",
   "metadata": {},
   "outputs": [
    {
     "data": {
      "text/plain": [
       "array([ 0. ,  2.5,  5. ,  7.5, 10. ])"
      ]
     },
     "execution_count": 44,
     "metadata": {},
     "output_type": "execute_result"
    }
   ],
   "source": [
    "def creat_vec_l():\n",
    "    res = np.linspace(0, 10 , 5)\n",
    "    return res\n",
    "\n",
    "creat_vec_l()"
   ]
  },
  {
   "cell_type": "markdown",
   "id": "67697bff",
   "metadata": {},
   "source": [
    "**Write a NumPy program to create a 10x10 matrix, in which the elements on the borders will be equal \n",
    "to 1, and inside 0.**"
   ]
  },
  {
   "cell_type": "code",
   "execution_count": 12,
   "id": "bfa96d2d",
   "metadata": {},
   "outputs": [
    {
     "data": {
      "text/plain": [
       "array([[1., 1., 1., 1., 1., 1., 1., 1., 1., 1.],\n",
       "       [1., 0., 0., 0., 0., 0., 0., 0., 0., 1.],\n",
       "       [1., 0., 0., 0., 0., 0., 0., 0., 0., 1.],\n",
       "       [1., 0., 0., 0., 0., 0., 0., 0., 0., 1.],\n",
       "       [1., 0., 0., 0., 0., 0., 0., 0., 0., 1.],\n",
       "       [1., 0., 0., 0., 0., 0., 0., 0., 0., 1.],\n",
       "       [1., 0., 0., 0., 0., 0., 0., 0., 0., 1.],\n",
       "       [1., 0., 0., 0., 0., 0., 0., 0., 0., 1.],\n",
       "       [1., 0., 0., 0., 0., 0., 0., 0., 0., 1.],\n",
       "       [1., 1., 1., 1., 1., 1., 1., 1., 1., 1.]])"
      ]
     },
     "execution_count": 12,
     "metadata": {},
     "output_type": "execute_result"
    }
   ],
   "source": [
    "def creat_mat():\n",
    "    mat = np.zeros((10 , 10))\n",
    "    mat[0] = 1\n",
    "    mat[-1] = 1\n",
    "    mat[: , :1] = 1\n",
    "    mat[: , -1:] = 1\n",
    "    return mat\n",
    "\n",
    "creat_mat()"
   ]
  },
  {
   "cell_type": "markdown",
   "id": "f13cc96d",
   "metadata": {},
   "source": [
    "**Write a NumPy program to create a 5x5 zero matrix with elements on the main diagonal equal to 1, 2, \n",
    "3, 4, 5.**"
   ]
  },
  {
   "cell_type": "code",
   "execution_count": 23,
   "id": "08ecdd1f",
   "metadata": {},
   "outputs": [
    {
     "data": {
      "text/plain": [
       "array([[1., 0., 0., 0., 0.],\n",
       "       [0., 2., 0., 0., 0.],\n",
       "       [0., 0., 3., 0., 0.],\n",
       "       [0., 0., 0., 4., 0.],\n",
       "       [0., 0., 0., 0., 5.]])"
      ]
     },
     "execution_count": 23,
     "metadata": {},
     "output_type": "execute_result"
    }
   ],
   "source": [
    "def matr():\n",
    "    m = np.zeros((5 , 5))\n",
    "    m[0 , :1] = 1\n",
    "    m[1 , 1:2] = 2\n",
    "    m[2 , 2:3] = 3\n",
    "    m[3 , 3:4] = 4\n",
    "    m[4 , 4:5] = 5\n",
    "    \n",
    "    return m\n",
    "\n",
    "matr()"
   ]
  },
  {
   "cell_type": "code",
   "execution_count": null,
   "id": "3451dc44",
   "metadata": {},
   "outputs": [],
   "source": []
  },
  {
   "cell_type": "code",
   "execution_count": null,
   "id": "0ad5ecc3",
   "metadata": {},
   "outputs": [],
   "source": []
  }
 ],
 "metadata": {
  "kernelspec": {
   "display_name": "Python 3 (ipykernel)",
   "language": "python",
   "name": "python3"
  },
  "language_info": {
   "codemirror_mode": {
    "name": "ipython",
    "version": 3
   },
   "file_extension": ".py",
   "mimetype": "text/x-python",
   "name": "python",
   "nbconvert_exporter": "python",
   "pygments_lexer": "ipython3",
   "version": "3.11.3"
  }
 },
 "nbformat": 4,
 "nbformat_minor": 5
}
